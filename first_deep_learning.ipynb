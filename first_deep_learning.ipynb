{
  "nbformat": 4,
  "nbformat_minor": 0,
  "metadata": {
    "colab": {
      "name": "first_deep_learning.ipynb",
      "version": "0.3.2",
      "provenance": [],
      "collapsed_sections": [],
      "include_colab_link": true
    },
    "kernelspec": {
      "name": "python3",
      "display_name": "Python 3"
    }
  },
  "cells": [
    {
      "cell_type": "markdown",
      "metadata": {
        "id": "view-in-github",
        "colab_type": "text"
      },
      "source": [
        "<a href=\"https://colab.research.google.com/github/yug95/Classification-Pyspark/blob/master/first_deep_learning.ipynb\" target=\"_parent\"><img src=\"https://colab.research.google.com/assets/colab-badge.svg\" alt=\"Open In Colab\"/></a>"
      ]
    },
    {
      "cell_type": "markdown",
      "metadata": {
        "id": "f0iwQWemouXG",
        "colab_type": "text"
      },
      "source": [
        "**First Deep learning practice module using Tensorflow and Keras**"
      ]
    },
    {
      "cell_type": "code",
      "metadata": {
        "id": "B44dywpEo95T",
        "colab_type": "code",
        "outputId": "58249ea7-195d-48fe-9ddd-ab3ede787833",
        "colab": {
          "base_uri": "https://localhost:8080/",
          "height": 34
        }
      },
      "source": [
        "import tensorflow as tf\n",
        "import pandas as pd\n",
        "import numpy as np\n",
        "\n",
        "print(tf.__version__)"
      ],
      "execution_count": 0,
      "outputs": [
        {
          "output_type": "stream",
          "text": [
            "1.13.1\n"
          ],
          "name": "stdout"
        }
      ]
    },
    {
      "cell_type": "code",
      "metadata": {
        "id": "UjsPTclapLFY",
        "colab_type": "code",
        "colab": {}
      },
      "source": [
        "mnsit = tf.keras.datasets.mnist\n",
        "(x_train,y_train),(x_test,y_test) = mnsit.load_data()"
      ],
      "execution_count": 0,
      "outputs": []
    },
    {
      "cell_type": "code",
      "metadata": {
        "id": "ikiSCUBbpsNd",
        "colab_type": "code",
        "outputId": "c9f4a475-6b52-4edf-8aa4-fd61dcac1ef3",
        "colab": {
          "base_uri": "https://localhost:8080/",
          "height": 286
        }
      },
      "source": [
        "import matplotlib.pyplot as plt\n",
        "print(plt.imshow(x_train[0]))"
      ],
      "execution_count": 0,
      "outputs": [
        {
          "output_type": "stream",
          "text": [
            "AxesImage(54,36;334.8x217.44)\n"
          ],
          "name": "stdout"
        },
        {
          "output_type": "display_data",
          "data": {
            "image/png": "[encoded data removed]",
            "text/plain": [
              "<Figure size 432x288 with 1 Axes>"
            ]
          },
          "metadata": {
            "tags": []
          }
        }
      ]
    },
    {
      "cell_type": "code",
      "metadata": {
        "id": "wnfu_1c9q0ci",
        "colab_type": "code",
        "colab": {}
      },
      "source": [
        "x_train = tf.keras.utils.normalize(x_train,axis=1)\n",
        "x_test = tf.keras.utils.normalize(x_test,axis=1)"
      ],
      "execution_count": 0,
      "outputs": []
    },
    {
      "cell_type": "code",
      "metadata": {
        "id": "afdlK0rBrNmt",
        "colab_type": "code",
        "outputId": "4e3f3e5d-ec75-4772-b4c5-49c09eac090f",
        "colab": {
          "base_uri": "https://localhost:8080/",
          "height": 207
        }
      },
      "source": [
        "models = tf.keras.models.Sequential()\n",
        "models.add(tf.keras.layers.Flatten())\n",
        "models.add(tf.keras.layers.Dense(128,activation=tf.nn.relu))\n",
        "models.add(tf.keras.layers.Dense(128,activation=tf.nn.relu))\n",
        "models.add(tf.keras.layers.Dense(10,activation=tf.nn.softmax))\n",
        "\n",
        "models.compile(optimizer='adam',loss='sparse_categorical_crossentropy',metrics=['accuracy'])\n",
        "models.fit(x_train,y_train,epochs=3)"
      ],
      "execution_count": 0,
      "outputs": [
        {
          "output_type": "stream",
          "text": [
            "WARNING:tensorflow:From /usr/local/lib/python3.6/dist-packages/tensorflow/python/ops/resource_variable_ops.py:435: colocate_with (from tensorflow.python.framework.ops) is deprecated and will be removed in a future version.\n",
            "Instructions for updating:\n",
            "Colocations handled automatically by placer.\n",
            "Epoch 1/3\n",
            "60000/60000 [==============================] - 8s 128us/sample - loss: 0.2643 - acc: 0.9227\n",
            "Epoch 2/3\n",
            "60000/60000 [==============================] - 8s 129us/sample - loss: 0.1069 - acc: 0.9677\n",
            "Epoch 3/3\n",
            "60000/60000 [==============================] - 8s 130us/sample - loss: 0.0722 - acc: 0.9773\n"
          ],
          "name": "stdout"
        },
        {
          "output_type": "execute_result",
          "data": {
            "text/plain": [
              "<tensorflow.python.keras.callbacks.History at 0x7efe3babdbe0>"
            ]
          },
          "metadata": {
            "tags": []
          },
          "execution_count": 20
        }
      ]
    },
    {
      "cell_type": "code",
      "metadata": {
        "id": "2nM4vglOtRIK",
        "colab_type": "code",
        "outputId": "3b272bba-9a10-482c-8ae2-4e0d3b811962",
        "colab": {
          "base_uri": "https://localhost:8080/",
          "height": 51
        }
      },
      "source": [
        "val_loss,val_acc = models.evaluate(x_test,y_test)\n",
        "print(val_loss,val_acc)"
      ],
      "execution_count": 0,
      "outputs": [
        {
          "output_type": "stream",
          "text": [
            "10000/10000 [==============================] - 1s 50us/sample - loss: 0.0949 - acc: 0.9704\n",
            "0.09488214558931067 0.9704\n"
          ],
          "name": "stdout"
        }
      ]
    },
    {
      "cell_type": "code",
      "metadata": {
        "id": "gXH3DQCIvFtW",
        "colab_type": "code",
        "colab": {}
      },
      "source": [
        "models.save('mnsit_model.model')"
      ],
      "execution_count": 0,
      "outputs": []
    },
    {
      "cell_type": "code",
      "metadata": {
        "id": "zJiaCSoyvSAb",
        "colab_type": "code",
        "outputId": "adb7b9fb-dcf4-4a8d-dba5-085bc7a7fb86",
        "colab": {
          "base_uri": "https://localhost:8080/",
          "height": 54
        }
      },
      "source": [
        "my_model = tf.keras.models.load_model('mnsit_model.model')"
      ],
      "execution_count": 0,
      "outputs": [
        {
          "output_type": "stream",
          "text": [
            "WARNING:tensorflow:Sequential models without an `input_shape` passed to the first layer cannot reload their optimizer state. As a result, your model isstarting with a freshly initialized optimizer.\n"
          ],
          "name": "stdout"
        }
      ]
    },
    {
      "cell_type": "code",
      "metadata": {
        "id": "S9WX0-UbvupC",
        "colab_type": "code",
        "outputId": "a4404b6c-31cb-4eb9-d22b-f604e7f2b5a3",
        "colab": {
          "base_uri": "https://localhost:8080/",
          "height": 34
        }
      },
      "source": [
        "prediction = my_model.predict(np.array(x_test))\n",
        "np.argmax(prediction[0])"
      ],
      "execution_count": 0,
      "outputs": [
        {
          "output_type": "execute_result",
          "data": {
            "text/plain": [
              "7"
            ]
          },
          "metadata": {
            "tags": []
          },
          "execution_count": 36
        }
      ]
    },
    {
      "cell_type": "code",
      "metadata": {
        "id": "2Bh2ku7MxDJF",
        "colab_type": "code",
        "outputId": "2fb3fdb6-54e7-4e82-a17f-4039d60c5d4c",
        "colab": {
          "base_uri": "https://localhost:8080/",
          "height": 286
        }
      },
      "source": [
        "plt.imshow(x_test[0])"
      ],
      "execution_count": 0,
      "outputs": [
        {
          "output_type": "execute_result",
          "data": {
            "text/plain": [
              "<matplotlib.image.AxesImage at 0x7efe36604860>"
            ]
          },
          "metadata": {
            "tags": []
          },
          "execution_count": 37
        },
        {
          "output_type": "display_data",
          "data": {
            "image/png": "[encoded data removed]",
            "text/plain": [
              "<Figure size 432x288 with 1 Axes>"
            ]
          },
          "metadata": {
            "tags": []
          }
        }
      ]
    }
  ]
}